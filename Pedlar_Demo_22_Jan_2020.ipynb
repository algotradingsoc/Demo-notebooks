{
  "nbformat": 4,
  "nbformat_minor": 0,
  "metadata": {
    "colab": {
      "name": "Pedlar Demo 22 Jan 2020",
      "provenance": [],
      "collapsed_sections": [],
      "toc_visible": true
    },
    "kernelspec": {
      "name": "python3",
      "display_name": "Python 3"
    }
  },
  "cells": [
    {
      "cell_type": "markdown",
      "metadata": {
        "id": "BEbz2qBtJ9tZ",
        "colab_type": "text"
      },
      "source": [
        "Link to Google Notebook:\n",
        "https://colab.research.google.com/drive/19zhygnx0iAEjIm8WyCvGPwfCAnCr8_Ev"
      ]
    },
    {
      "cell_type": "code",
      "metadata": {
        "id": "QwHsxBdwpwjg",
        "colab_type": "code",
        "outputId": "7a49e405-abf8-4df0-8c6d-2f1abf4ded49",
        "colab": {
          "base_uri": "https://localhost:8080/",
          "height": 394
        }
      },
      "source": [
        "pip install -i https://test.pypi.org/simple/ icalgosocdemo==0.0.8"
      ],
      "execution_count": 0,
      "outputs": [
        {
          "output_type": "stream",
          "text": [
            "Looking in indexes: https://test.pypi.org/simple/\n",
            "Collecting icalgosocdemo==0.0.8\n",
            "\u001b[?25l  Downloading https://test-files.pythonhosted.org/packages/63/04/cae1f6214eb223f72e7bdff59523ee6e3e2397b1f4d4816ea17c5bc7515e/icalgosocdemo-0.0.8-py3-none-any.whl (643kB)\n",
            "\u001b[K     |████████████████████████████████| 645kB 5.0MB/s \n",
            "\u001b[?25hRequirement already satisfied: matplotlib in /usr/local/lib/python3.6/dist-packages (from icalgosocdemo==0.0.8) (3.1.2)\n",
            "Requirement already satisfied: requests in /usr/local/lib/python3.6/dist-packages (from icalgosocdemo==0.0.8) (2.21.0)\n",
            "Requirement already satisfied: pandas in /usr/local/lib/python3.6/dist-packages (from icalgosocdemo==0.0.8) (0.25.3)\n",
            "Requirement already satisfied: kiwisolver>=1.0.1 in /usr/local/lib/python3.6/dist-packages (from matplotlib->icalgosocdemo==0.0.8) (1.1.0)\n",
            "Requirement already satisfied: python-dateutil>=2.1 in /usr/local/lib/python3.6/dist-packages (from matplotlib->icalgosocdemo==0.0.8) (2.6.1)\n",
            "Requirement already satisfied: pyparsing!=2.0.4,!=2.1.2,!=2.1.6,>=2.0.1 in /usr/local/lib/python3.6/dist-packages (from matplotlib->icalgosocdemo==0.0.8) (2.4.6)\n",
            "Requirement already satisfied: cycler>=0.10 in /usr/local/lib/python3.6/dist-packages (from matplotlib->icalgosocdemo==0.0.8) (0.10.0)\n",
            "Requirement already satisfied: numpy>=1.11 in /usr/local/lib/python3.6/dist-packages (from matplotlib->icalgosocdemo==0.0.8) (1.17.5)\n",
            "Requirement already satisfied: urllib3<1.25,>=1.21.1 in /usr/local/lib/python3.6/dist-packages (from requests->icalgosocdemo==0.0.8) (1.24.3)\n",
            "Requirement already satisfied: certifi>=2017.4.17 in /usr/local/lib/python3.6/dist-packages (from requests->icalgosocdemo==0.0.8) (2019.11.28)\n",
            "Requirement already satisfied: idna<2.9,>=2.5 in /usr/local/lib/python3.6/dist-packages (from requests->icalgosocdemo==0.0.8) (2.8)\n",
            "Requirement already satisfied: chardet<3.1.0,>=3.0.2 in /usr/local/lib/python3.6/dist-packages (from requests->icalgosocdemo==0.0.8) (3.0.4)\n",
            "Requirement already satisfied: pytz>=2017.2 in /usr/local/lib/python3.6/dist-packages (from pandas->icalgosocdemo==0.0.8) (2018.9)\n",
            "Requirement already satisfied: setuptools in /usr/local/lib/python3.6/dist-packages (from kiwisolver>=1.0.1->matplotlib->icalgosocdemo==0.0.8) (42.0.2)\n",
            "Requirement already satisfied: six>=1.5 in /usr/local/lib/python3.6/dist-packages (from python-dateutil>=2.1->matplotlib->icalgosocdemo==0.0.8) (1.12.0)\n",
            "Installing collected packages: icalgosocdemo\n",
            "Successfully installed icalgosocdemo-0.0.8\n"
          ],
          "name": "stdout"
        }
      ]
    },
    {
      "cell_type": "code",
      "metadata": {
        "id": "njxo_yHYq4CZ",
        "colab_type": "code",
        "colab": {}
      },
      "source": [
        "from icalgodemo.strategy import Strategy\n",
        "from collections import deque \n",
        "import numpy as np\n",
        "import pandas as pd\n",
        "import matplotlib.pyplot as plt"
      ],
      "execution_count": 0,
      "outputs": []
    },
    {
      "cell_type": "markdown",
      "metadata": {
        "id": "14on-OfrXNJ8",
        "colab_type": "text"
      },
      "source": [
        "## Week 2 Working with non stationary data\n"
      ]
    },
    {
      "cell_type": "markdown",
      "metadata": {
        "id": "Y5xjbtzLJMiI",
        "colab_type": "text"
      },
      "source": [
        "Example: S&P 500 in the last 15 years"
      ]
    },
    {
      "cell_type": "code",
      "metadata": {
        "id": "1szftJuaZHfw",
        "colab_type": "code",
        "colab": {}
      },
      "source": [
        "class BuyandHoldStrategy(Strategy):\n",
        "\n",
        "    def before_trades(self):\n",
        "      return None \n",
        "    \n",
        "    def ondata(self,bid,ask):\n",
        "      return 1\n"
      ],
      "execution_count": 0,
      "outputs": []
    },
    {
      "cell_type": "code",
      "metadata": {
        "id": "VPw3Vw32Fu9l",
        "colab_type": "code",
        "outputId": "8a987eaf-11e2-4610-8a03-dae81a102e1f",
        "colab": {
          "base_uri": "https://localhost:8080/",
          "height": 34
        }
      },
      "source": [
        "strat = BuyandHoldStrategy(datasets='SPY')\n",
        "strat.train()"
      ],
      "execution_count": 0,
      "outputs": [
        {
          "output_type": "stream",
          "text": [
            "Running Pedlar Demo for single asset. Dataset SPY\n"
          ],
          "name": "stdout"
        }
      ]
    },
    {
      "cell_type": "markdown",
      "metadata": {
        "id": "PAsJT3eyXZSY",
        "colab_type": "text"
      },
      "source": [
        "Training datasets can now be downloaded. Currently we support GBPUSD and SPY dataset"
      ]
    },
    {
      "cell_type": "code",
      "metadata": {
        "id": "WM_IkghUXGwm",
        "colab_type": "code",
        "outputId": "4b46efb0-78c7-4bcb-d128-fdc47ff7d8a9",
        "colab": {
          "base_uri": "https://localhost:8080/",
          "height": 34
        }
      },
      "source": [
        "strat.download_train(dataset='SPY')"
      ],
      "execution_count": 0,
      "outputs": [
        {
          "output_type": "stream",
          "text": [
            "Training Data Downloaded from dataset SPY\n"
          ],
          "name": "stdout"
        }
      ]
    },
    {
      "cell_type": "code",
      "metadata": {
        "id": "AUfRg22TFxBN",
        "colab_type": "code",
        "outputId": "3674f45a-d64f-4de7-af99-b79f358a64f7",
        "colab": {
          "base_uri": "https://localhost:8080/",
          "height": 281
        }
      },
      "source": [
        "strat.plot_pnl()"
      ],
      "execution_count": 0,
      "outputs": [
        {
          "output_type": "display_data",
          "data": {
            "image/png": "[encoded data removed]",
            "text/plain": [
              "<Figure size 432x288 with 1 Axes>"
            ]
          },
          "metadata": {
            "tags": []
          }
        }
      ]
    },
    {
      "cell_type": "code",
      "metadata": {
        "id": "yo6-1GLqFx8m",
        "colab_type": "code",
        "outputId": "754f95ba-4cf3-4b4b-a461-cb4ca689d03b",
        "colab": {
          "base_uri": "https://localhost:8080/",
          "height": 281
        }
      },
      "source": [
        "strat.plot_holding()"
      ],
      "execution_count": 0,
      "outputs": [
        {
          "output_type": "display_data",
          "data": {
            "image/png": "[encoded data removed]",
            "text/plain": [
              "<Figure size 432x288 with 1 Axes>"
            ]
          },
          "metadata": {
            "tags": []
          }
        }
      ]
    },
    {
      "cell_type": "markdown",
      "metadata": {
        "id": "QpqjuEO5Fl9A",
        "colab_type": "text"
      },
      "source": [
        "### MACD signal as in last week"
      ]
    },
    {
      "cell_type": "code",
      "metadata": {
        "id": "GzYdadWZFlOZ",
        "colab_type": "code",
        "colab": {}
      },
      "source": [
        "class MACDStrategy(Strategy):\n",
        "\n",
        "    def before_trades(self):\n",
        "      self.bidhist = deque(maxlen=250)\n",
        "      self.askhist = deque(maxlen=250)\n",
        "      self.midhist = deque(maxlen=250)\n",
        "      self.fast_length = 20\n",
        "      self.slow_length = 50\n",
        "      self.holdinghist = deque(maxlen=50)\n",
        "      return None \n",
        "    \n",
        "    def ondata(self,bid,ask):\n",
        "\n",
        "      self.bidhist.append(bid)\n",
        "      self.askhist.append(ask)\n",
        "      mid = (ask+bid)/2\n",
        "      self.midhist.append(mid)\n",
        "      fast_mean = np.array(self.midhist)[-self.fast_length:].mean()\n",
        "      slow_mean = np.array(self.midhist)[-self.slow_length:].mean()\n",
        "\n",
        "      if fast_mean >= slow_mean:\n",
        "        signal = 1\n",
        "      else:\n",
        "        signal = -1\n",
        "      self.holdinghist.append(signal)\n",
        "\n",
        "      # warmup for history \n",
        "      if len(self.midhist)>=50:\n",
        "        return np.array(self.holdinghist).mean()\n",
        "      else:\n",
        "        return 0 \n"
      ],
      "execution_count": 0,
      "outputs": []
    },
    {
      "cell_type": "code",
      "metadata": {
        "id": "nuiTLuAA31h0",
        "colab_type": "code",
        "outputId": "a512af87-01fa-4582-d182-a7324339f983",
        "colab": {
          "base_uri": "https://localhost:8080/",
          "height": 34
        }
      },
      "source": [
        "strat = MACDStrategy(datasets='SPY')\n",
        "strat.train()"
      ],
      "execution_count": 0,
      "outputs": [
        {
          "output_type": "stream",
          "text": [
            "Running Pedlar Demo for single asset. Dataset SPY\n"
          ],
          "name": "stdout"
        }
      ]
    },
    {
      "cell_type": "code",
      "metadata": {
        "id": "4z_wtwLFZoiL",
        "colab_type": "code",
        "outputId": "29d38b28-0e58-4374-87ab-4a19b77b21ec",
        "colab": {
          "base_uri": "https://localhost:8080/",
          "height": 281
        }
      },
      "source": [
        "strat.plot_pnl()"
      ],
      "execution_count": 0,
      "outputs": [
        {
          "output_type": "display_data",
          "data": {
            "image/png": "[encoded data removed]",
            "text/plain": [
              "<Figure size 432x288 with 1 Axes>"
            ]
          },
          "metadata": {
            "tags": []
          }
        }
      ]
    },
    {
      "cell_type": "code",
      "metadata": {
        "id": "u7RaGMnnZosW",
        "colab_type": "code",
        "outputId": "249a7b78-64d3-4e9d-e85b-a9d1b3f2d86e",
        "colab": {
          "base_uri": "https://localhost:8080/",
          "height": 281
        }
      },
      "source": [
        "strat.plot_holding()"
      ],
      "execution_count": 0,
      "outputs": [
        {
          "output_type": "display_data",
          "data": {
            "image/png": "[encoded data removed]",
            "text/plain": [
              "<Figure size 432x288 with 1 Axes>"
            ]
          },
          "metadata": {
            "tags": []
          }
        }
      ]
    },
    {
      "cell_type": "markdown",
      "metadata": {
        "id": "5gl7anA3ePfd",
        "colab_type": "text"
      },
      "source": [
        "Question: Which strategy is better? What metrics would you use to compare different trading strategies? "
      ]
    },
    {
      "cell_type": "markdown",
      "metadata": {
        "id": "F_ZWHcJyaqg3",
        "colab_type": "text"
      },
      "source": [
        "## Linear regression/ Autoregressive model \n"
      ]
    },
    {
      "cell_type": "markdown",
      "metadata": {
        "id": "DjEjVUNVbdfJ",
        "colab_type": "text"
      },
      "source": [
        "Using the price data directly"
      ]
    },
    {
      "cell_type": "code",
      "metadata": {
        "id": "hjDPge6vZ6pH",
        "colab_type": "code",
        "colab": {}
      },
      "source": [
        "whole_train_data = pd.read_csv('Train_SPY.csv',index_col=0)\n",
        "whole_train_data.columns = ['Time','Bid','Ask']\n",
        "whole_train_data['Mid'] = (whole_train_data['Bid'] + whole_train_data['Ask'])/2"
      ],
      "execution_count": 0,
      "outputs": []
    },
    {
      "cell_type": "code",
      "metadata": {
        "id": "niexHAzPbigh",
        "colab_type": "code",
        "colab": {}
      },
      "source": [
        "for i in range(1,6):\n",
        "  whole_train_data['Mid_{}'.format(i)] = whole_train_data['Mid'].shift(periods=i)"
      ],
      "execution_count": 0,
      "outputs": []
    },
    {
      "cell_type": "code",
      "metadata": {
        "id": "ARODVUJFcZBy",
        "colab_type": "code",
        "colab": {}
      },
      "source": [
        "whole_train_data.dropna(inplace=True)"
      ],
      "execution_count": 0,
      "outputs": []
    },
    {
      "cell_type": "code",
      "metadata": {
        "id": "fED_yUL5cZEO",
        "colab_type": "code",
        "outputId": "1880e231-8062-4f3a-c755-7e254730f96d",
        "colab": {
          "base_uri": "https://localhost:8080/",
          "height": 204
        }
      },
      "source": [
        "whole_train_data.head(5)"
      ],
      "execution_count": 0,
      "outputs": [
        {
          "output_type": "execute_result",
          "data": {
            "text/html": [
              "<div>\n",
              "<style scoped>\n",
              "    .dataframe tbody tr th:only-of-type {\n",
              "        vertical-align: middle;\n",
              "    }\n",
              "\n",
              "    .dataframe tbody tr th {\n",
              "        vertical-align: top;\n",
              "    }\n",
              "\n",
              "    .dataframe thead th {\n",
              "        text-align: right;\n",
              "    }\n",
              "</style>\n",
              "<table border=\"1\" class=\"dataframe\">\n",
              "  <thead>\n",
              "    <tr style=\"text-align: right;\">\n",
              "      <th></th>\n",
              "      <th>Time</th>\n",
              "      <th>Bid</th>\n",
              "      <th>Ask</th>\n",
              "      <th>Mid</th>\n",
              "      <th>Mid_1</th>\n",
              "      <th>Mid_2</th>\n",
              "      <th>Mid_3</th>\n",
              "      <th>Mid_4</th>\n",
              "      <th>Mid_5</th>\n",
              "    </tr>\n",
              "  </thead>\n",
              "  <tbody>\n",
              "    <tr>\n",
              "      <th>5</th>\n",
              "      <td>2005-03-04</td>\n",
              "      <td>102.465</td>\n",
              "      <td>102.475</td>\n",
              "      <td>102.47</td>\n",
              "      <td>101.19</td>\n",
              "      <td>101.15</td>\n",
              "      <td>101.20</td>\n",
              "      <td>100.68</td>\n",
              "      <td>101.36</td>\n",
              "    </tr>\n",
              "    <tr>\n",
              "      <th>6</th>\n",
              "      <td>2005-03-07</td>\n",
              "      <td>102.505</td>\n",
              "      <td>102.515</td>\n",
              "      <td>102.51</td>\n",
              "      <td>102.47</td>\n",
              "      <td>101.19</td>\n",
              "      <td>101.15</td>\n",
              "      <td>101.20</td>\n",
              "      <td>100.68</td>\n",
              "    </tr>\n",
              "    <tr>\n",
              "      <th>7</th>\n",
              "      <td>2005-03-08</td>\n",
              "      <td>102.105</td>\n",
              "      <td>102.115</td>\n",
              "      <td>102.11</td>\n",
              "      <td>102.51</td>\n",
              "      <td>102.47</td>\n",
              "      <td>101.19</td>\n",
              "      <td>101.15</td>\n",
              "      <td>101.20</td>\n",
              "    </tr>\n",
              "    <tr>\n",
              "      <th>8</th>\n",
              "      <td>2005-03-09</td>\n",
              "      <td>100.965</td>\n",
              "      <td>100.975</td>\n",
              "      <td>100.97</td>\n",
              "      <td>102.11</td>\n",
              "      <td>102.51</td>\n",
              "      <td>102.47</td>\n",
              "      <td>101.19</td>\n",
              "      <td>101.15</td>\n",
              "    </tr>\n",
              "    <tr>\n",
              "      <th>9</th>\n",
              "      <td>2005-03-10</td>\n",
              "      <td>101.195</td>\n",
              "      <td>101.205</td>\n",
              "      <td>101.20</td>\n",
              "      <td>100.97</td>\n",
              "      <td>102.11</td>\n",
              "      <td>102.51</td>\n",
              "      <td>102.47</td>\n",
              "      <td>101.19</td>\n",
              "    </tr>\n",
              "  </tbody>\n",
              "</table>\n",
              "</div>"
            ],
            "text/plain": [
              "         Time      Bid      Ask     Mid   Mid_1   Mid_2   Mid_3   Mid_4   Mid_5\n",
              "5  2005-03-04  102.465  102.475  102.47  101.19  101.15  101.20  100.68  101.36\n",
              "6  2005-03-07  102.505  102.515  102.51  102.47  101.19  101.15  101.20  100.68\n",
              "7  2005-03-08  102.105  102.115  102.11  102.51  102.47  101.19  101.15  101.20\n",
              "8  2005-03-09  100.965  100.975  100.97  102.11  102.51  102.47  101.19  101.15\n",
              "9  2005-03-10  101.195  101.205  101.20  100.97  102.11  102.51  102.47  101.19"
            ]
          },
          "metadata": {
            "tags": []
          },
          "execution_count": 15
        }
      ]
    },
    {
      "cell_type": "code",
      "metadata": {
        "id": "RMA35N9acZHC",
        "colab_type": "code",
        "colab": {}
      },
      "source": [
        "from sklearn.model_selection import train_test_split\n",
        "from sklearn.linear_model import LinearRegression,LogisticRegression"
      ],
      "execution_count": 0,
      "outputs": []
    },
    {
      "cell_type": "code",
      "metadata": {
        "id": "edGcqhrlehbI",
        "colab_type": "code",
        "colab": {}
      },
      "source": [
        "shifted_columns = ['Mid_{}'.format(i) for i in range(1,6)]\n",
        "X = whole_train_data[shifted_columns]\n",
        "X_train, X_test, y_train, y_test = train_test_split(X,whole_train_data['Mid'],test_size=0.2,random_state=0)"
      ],
      "execution_count": 0,
      "outputs": []
    },
    {
      "cell_type": "code",
      "metadata": {
        "id": "jV4cop2eehd8",
        "colab_type": "code",
        "outputId": "3508bdea-8e6c-435c-9177-c25a8eb8fe86",
        "colab": {
          "base_uri": "https://localhost:8080/",
          "height": 34
        }
      },
      "source": [
        "reg = LinearRegression().fit(X_train, y_train)\n",
        "y_pred = reg.predict(X_test)\n",
        "reg.score(X_test,y_test)"
      ],
      "execution_count": 0,
      "outputs": [
        {
          "output_type": "execute_result",
          "data": {
            "text/plain": [
              "0.9986238203088182"
            ]
          },
          "metadata": {
            "tags": []
          },
          "execution_count": 18
        }
      ]
    },
    {
      "cell_type": "code",
      "metadata": {
        "id": "PGRghtiYxXd9",
        "colab_type": "code",
        "outputId": "5d994658-1565-45f5-910b-1b736e211931",
        "colab": {
          "base_uri": "https://localhost:8080/",
          "height": 284
        }
      },
      "source": [
        "plt.plot(y_test.values)\n",
        "plt.plot(y_pred)"
      ],
      "execution_count": 0,
      "outputs": [
        {
          "output_type": "execute_result",
          "data": {
            "text/plain": [
              "[<matplotlib.lines.Line2D at 0x7f98b2760240>]"
            ]
          },
          "metadata": {
            "tags": []
          },
          "execution_count": 19
        },
        {
          "output_type": "display_data",
          "data": {
            "image/png": "[encoded data removed]",
            "text/plain": [
              "<Figure size 432x288 with 1 Axes>"
            ]
          },
          "metadata": {
            "tags": []
          }
        }
      ]
    },
    {
      "cell_type": "markdown",
      "metadata": {
        "id": "HKzCCNolehoR",
        "colab_type": "text"
      },
      "source": [
        "Question: A near perfect score is obtained. Can this simple AR model use in real trading? How should we intepret this result?"
      ]
    },
    {
      "cell_type": "markdown",
      "metadata": {
        "id": "1zutiKmQygd1",
        "colab_type": "text"
      },
      "source": [
        "Using log returns"
      ]
    },
    {
      "cell_type": "code",
      "metadata": {
        "id": "u65kq-ZJyYiO",
        "colab_type": "code",
        "colab": {}
      },
      "source": [
        "whole_train_data = pd.read_csv('Train_SPY.csv',index_col=0)\n",
        "whole_train_data.columns = ['Time','Bid','Ask']\n",
        "whole_train_data['Mid'] = (whole_train_data['Bid'] + whole_train_data['Ask'])/2\n",
        "whole_train_data['Return'] = np.log(whole_train_data['Mid']) - np.log(whole_train_data['Mid'].shift(1))"
      ],
      "execution_count": 0,
      "outputs": []
    },
    {
      "cell_type": "code",
      "metadata": {
        "id": "ooC3tGpvyYr5",
        "colab_type": "code",
        "colab": {}
      },
      "source": [
        "for i in range(1,6):\n",
        "  whole_train_data['Return_{}'.format(i)] = np.log(whole_train_data['Mid'].shift(i)) - np.log(whole_train_data['Mid'].shift(i+1))"
      ],
      "execution_count": 0,
      "outputs": []
    },
    {
      "cell_type": "code",
      "metadata": {
        "id": "KHK5hCuDyjgo",
        "colab_type": "code",
        "outputId": "218f8ea1-ed07-4bec-c740-1f9760bbaca9",
        "colab": {
          "base_uri": "https://localhost:8080/",
          "height": 204
        }
      },
      "source": [
        "whole_train_data.dropna(inplace=True)\n",
        "whole_train_data.head(5)"
      ],
      "execution_count": 0,
      "outputs": [
        {
          "output_type": "execute_result",
          "data": {
            "text/html": [
              "<div>\n",
              "<style scoped>\n",
              "    .dataframe tbody tr th:only-of-type {\n",
              "        vertical-align: middle;\n",
              "    }\n",
              "\n",
              "    .dataframe tbody tr th {\n",
              "        vertical-align: top;\n",
              "    }\n",
              "\n",
              "    .dataframe thead th {\n",
              "        text-align: right;\n",
              "    }\n",
              "</style>\n",
              "<table border=\"1\" class=\"dataframe\">\n",
              "  <thead>\n",
              "    <tr style=\"text-align: right;\">\n",
              "      <th></th>\n",
              "      <th>Time</th>\n",
              "      <th>Bid</th>\n",
              "      <th>Ask</th>\n",
              "      <th>Mid</th>\n",
              "      <th>Return</th>\n",
              "      <th>Return_1</th>\n",
              "      <th>Return_2</th>\n",
              "      <th>Return_3</th>\n",
              "      <th>Return_4</th>\n",
              "      <th>Return_5</th>\n",
              "    </tr>\n",
              "  </thead>\n",
              "  <tbody>\n",
              "    <tr>\n",
              "      <th>12</th>\n",
              "      <td>2005-03-15</td>\n",
              "      <td>100.275</td>\n",
              "      <td>100.285</td>\n",
              "      <td>100.280</td>\n",
              "      <td>-0.008342</td>\n",
              "      <td>0.006150</td>\n",
              "      <td>-0.006941</td>\n",
              "      <td>0.002275</td>\n",
              "      <td>-0.011227</td>\n",
              "      <td>-0.003910</td>\n",
              "    </tr>\n",
              "    <tr>\n",
              "      <th>13</th>\n",
              "      <td>2005-03-16</td>\n",
              "      <td>99.436</td>\n",
              "      <td>99.446</td>\n",
              "      <td>99.441</td>\n",
              "      <td>-0.008402</td>\n",
              "      <td>-0.008342</td>\n",
              "      <td>0.006150</td>\n",
              "      <td>-0.006941</td>\n",
              "      <td>0.002275</td>\n",
              "      <td>-0.011227</td>\n",
              "    </tr>\n",
              "    <tr>\n",
              "      <th>14</th>\n",
              "      <td>2005-03-17</td>\n",
              "      <td>99.645</td>\n",
              "      <td>99.655</td>\n",
              "      <td>99.650</td>\n",
              "      <td>0.002100</td>\n",
              "      <td>-0.008402</td>\n",
              "      <td>-0.008342</td>\n",
              "      <td>0.006150</td>\n",
              "      <td>-0.006941</td>\n",
              "      <td>0.002275</td>\n",
              "    </tr>\n",
              "    <tr>\n",
              "      <th>15</th>\n",
              "      <td>2005-03-18</td>\n",
              "      <td>98.941</td>\n",
              "      <td>98.951</td>\n",
              "      <td>98.946</td>\n",
              "      <td>-0.007090</td>\n",
              "      <td>0.002100</td>\n",
              "      <td>-0.008402</td>\n",
              "      <td>-0.008342</td>\n",
              "      <td>0.006150</td>\n",
              "      <td>-0.006941</td>\n",
              "    </tr>\n",
              "    <tr>\n",
              "      <th>16</th>\n",
              "      <td>2005-03-21</td>\n",
              "      <td>98.584</td>\n",
              "      <td>98.594</td>\n",
              "      <td>98.589</td>\n",
              "      <td>-0.003615</td>\n",
              "      <td>-0.007090</td>\n",
              "      <td>0.002100</td>\n",
              "      <td>-0.008402</td>\n",
              "      <td>-0.008342</td>\n",
              "      <td>0.006150</td>\n",
              "    </tr>\n",
              "  </tbody>\n",
              "</table>\n",
              "</div>"
            ],
            "text/plain": [
              "          Time      Bid      Ask  ...  Return_3  Return_4  Return_5\n",
              "12  2005-03-15  100.275  100.285  ...  0.002275 -0.011227 -0.003910\n",
              "13  2005-03-16   99.436   99.446  ... -0.006941  0.002275 -0.011227\n",
              "14  2005-03-17   99.645   99.655  ...  0.006150 -0.006941  0.002275\n",
              "15  2005-03-18   98.941   98.951  ... -0.008342  0.006150 -0.006941\n",
              "16  2005-03-21   98.584   98.594  ... -0.008402 -0.008342  0.006150\n",
              "\n",
              "[5 rows x 10 columns]"
            ]
          },
          "metadata": {
            "tags": []
          },
          "execution_count": 25
        }
      ]
    },
    {
      "cell_type": "code",
      "metadata": {
        "id": "Bhc46DC-yjq0",
        "colab_type": "code",
        "colab": {}
      },
      "source": [
        "shifted_columns = ['Return_{}'.format(i) for i in range(1,6)]\n",
        "X = whole_train_data[shifted_columns]\n",
        "X_train, X_test, y_train, y_test = train_test_split(X,whole_train_data['Return'],test_size=0.2,random_state=0)"
      ],
      "execution_count": 0,
      "outputs": []
    },
    {
      "cell_type": "code",
      "metadata": {
        "id": "X5HbIndfyYvY",
        "colab_type": "code",
        "outputId": "b19bc3e9-91a8-4638-c470-f3d96d261c61",
        "colab": {
          "base_uri": "https://localhost:8080/",
          "height": 34
        }
      },
      "source": [
        "reg = LinearRegression().fit(X_train, y_train)\n",
        "y_pred = reg.predict(X_test)\n",
        "reg.score(X_test,y_test)"
      ],
      "execution_count": 0,
      "outputs": [
        {
          "output_type": "execute_result",
          "data": {
            "text/plain": [
              "-0.012852799293192827"
            ]
          },
          "metadata": {
            "tags": []
          },
          "execution_count": 27
        }
      ]
    },
    {
      "cell_type": "code",
      "metadata": {
        "id": "SEZEEoFi0aTy",
        "colab_type": "code",
        "outputId": "6fd34519-e5af-4b46-c12e-6f56ab515f9a",
        "colab": {
          "base_uri": "https://localhost:8080/",
          "height": 282
        }
      },
      "source": [
        "plt.plot(y_test.values)\n",
        "plt.plot(y_pred)"
      ],
      "execution_count": 0,
      "outputs": [
        {
          "output_type": "execute_result",
          "data": {
            "text/plain": [
              "[<matplotlib.lines.Line2D at 0x7f98afab7cf8>]"
            ]
          },
          "metadata": {
            "tags": []
          },
          "execution_count": 28
        },
        {
          "output_type": "display_data",
          "data": {
            "image/png": "[encoded data removed]",
            "text/plain": [
              "<Figure size 432x288 with 1 Axes>"
            ]
          },
          "metadata": {
            "tags": []
          }
        }
      ]
    },
    {
      "cell_type": "markdown",
      "metadata": {
        "id": "YlLawKyk0q4r",
        "colab_type": "text"
      },
      "source": [
        "Question: AR model fails to predict the return of SPY. Given the same amount of information is contained in the price and return series, what can be concluded for forecasting in financial time series? "
      ]
    }
  ]
}